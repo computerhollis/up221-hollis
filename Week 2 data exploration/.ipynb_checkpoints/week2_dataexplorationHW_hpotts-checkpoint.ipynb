{
 "cells": [
  {
   "cell_type": "markdown",
   "id": "4b73084e-001f-4c0c-b16e-a99747b51e8b",
   "metadata": {},
   "source": [
    "# Week 2 Data exploration\n",
    "## Hollis Potts\n",
    "The purpose of this assignment is to explore cancer incidence in the United States."
   ]
  },
  {
   "cell_type": "code",
   "execution_count": null,
   "id": "4e125ff6-ba57-4718-a0dc-3693df57a8bd",
   "metadata": {},
   "outputs": [],
   "source": []
  }
 ],
 "metadata": {
  "kernelspec": {
   "display_name": "Python 3 (ipykernel)",
   "language": "python",
   "name": "python3"
  },
  "language_info": {
   "codemirror_mode": {
    "name": "ipython",
    "version": 3
   },
   "file_extension": ".py",
   "mimetype": "text/x-python",
   "name": "python",
   "nbconvert_exporter": "python",
   "pygments_lexer": "ipython3",
   "version": "3.11.9"
  }
 },
 "nbformat": 4,
 "nbformat_minor": 5
}
